{
  "nbformat": 4,
  "nbformat_minor": 0,
  "metadata": {
    "colab": {
      "name": "Voice assistent",
      "provenance": [],
      "mount_file_id": "1FUI0Yxg-FwpwYercb6RlSrAFPmYnhSmT",
      "authorship_tag": "ABX9TyOnILAnJyE9LBwcLUxrinlU",
      "include_colab_link": true
    },
    "kernelspec": {
      "name": "python3",
      "display_name": "Python 3"
    },
    "language_info": {
      "name": "python"
    },
    "accelerator": "GPU"
  },
  "cells": [
    {
      "cell_type": "markdown",
      "metadata": {
        "id": "view-in-github",
        "colab_type": "text"
      },
      "source": [
        "<a href=\"https://colab.research.google.com/github/Muesligaming/A-Hackers-AI-Voice-Assistant/blob/master/Voice_assistent.ipynb\" target=\"_parent\"><img src=\"https://colab.research.google.com/assets/colab-badge.svg\" alt=\"Open In Colab\"/></a>"
      ]
    },
    {
      "cell_type": "code",
      "source": [
        "!apt-get install git\n",
        "!apt-get install portaudio19-dev\n",
        "!git clone https://github.com/Muesligaming/A-Hackers-AI-Voice-Assistant.git\n",
        "!pip install -r A-Hackers-AI-Voice-Assistant/req.txt"
      ],
      "metadata": {
        "colab": {
          "base_uri": "https://localhost:8080/"
        },
        "id": "Am43TrS6lyOm",
        "outputId": "bd9110df-796a-4426-e14c-e34bf378cb73"
      },
      "execution_count": null,
      "outputs": [
        {
          "output_type": "stream",
          "name": "stdout",
          "text": [
            "Reading package lists... Done\n",
            "Building dependency tree       \n",
            "Reading state information... Done\n",
            "git is already the newest version (1:2.17.1-1ubuntu0.9).\n",
            "0 upgraded, 0 newly installed, 0 to remove and 37 not upgraded.\n",
            "Reading package lists... Done\n",
            "Building dependency tree       \n",
            "Reading state information... Done\n",
            "The following additional packages will be installed:\n",
            "  libportaudio2 libportaudiocpp0\n",
            "Suggested packages:\n",
            "  portaudio19-doc\n",
            "The following NEW packages will be installed:\n",
            "  libportaudio2 libportaudiocpp0 portaudio19-dev\n",
            "0 upgraded, 3 newly installed, 0 to remove and 37 not upgraded.\n",
            "Need to get 184 kB of archives.\n",
            "After this operation, 891 kB of additional disk space will be used.\n",
            "Get:1 http://archive.ubuntu.com/ubuntu bionic/universe amd64 libportaudio2 amd64 19.6.0-1 [64.6 kB]\n",
            "Get:2 http://archive.ubuntu.com/ubuntu bionic/universe amd64 libportaudiocpp0 amd64 19.6.0-1 [15.1 kB]\n",
            "Get:3 http://archive.ubuntu.com/ubuntu bionic/universe amd64 portaudio19-dev amd64 19.6.0-1 [104 kB]\n",
            "Fetched 184 kB in 1s (250 kB/s)\n",
            "Selecting previously unselected package libportaudio2:amd64.\n",
            "(Reading database ... 155222 files and directories currently installed.)\n",
            "Preparing to unpack .../libportaudio2_19.6.0-1_amd64.deb ...\n",
            "Unpacking libportaudio2:amd64 (19.6.0-1) ...\n",
            "Selecting previously unselected package libportaudiocpp0:amd64.\n",
            "Preparing to unpack .../libportaudiocpp0_19.6.0-1_amd64.deb ...\n",
            "Unpacking libportaudiocpp0:amd64 (19.6.0-1) ...\n"
          ]
        }
      ]
    },
    {
      "cell_type": "code",
      "execution_count": null,
      "metadata": {
        "id": "TR0sk7oWfSaJ"
      },
      "outputs": [],
      "source": [
        "!mkdir A-Hackers-AI-Voice-Assistant/VoiceAssistant/wakeword/scripts/data\n",
        "!mkdir A-Hackers-AI-Voice-Assistant/VoiceAssistant/wakeword/scripts/data/0\n",
        "!mkdir A-Hackers-AI-Voice-Assistant/VoiceAssistant/wakeword/scripts/data/1 \n",
        "!mkdir A-Hackers-AI-Voice-Assistant/VoiceAssistant/wakeword/scripts/data/wakewords"
      ]
    },
    {
      "cell_type": "code",
      "source": [
        "!cp -RT drive/MyDrive/moin/ A-Hackers-AI-Voice-Assistant/VoiceAssistant/wakeword/scripts/data/1"
      ],
      "metadata": {
        "id": "5i3ggLUktN0Y"
      },
      "execution_count": null,
      "outputs": []
    },
    {
      "cell_type": "code",
      "source": [
        "!python A-Hackers-AI-Voice-Assistant/VoiceAssistant/wakeword/scripts/collect_wakeword_audio.py --sample_rate 8000 --seconds 2 --interactive --interactive_save_path A-Hackers-AI-Voice-Assistant/VoiceAssistant/wakeword/scripts/data/wakewords\n"
      ],
      "metadata": {
        "id": "lZLtCfMIfegk"
      },
      "execution_count": null,
      "outputs": []
    },
    {
      "cell_type": "code",
      "source": [
        "!python A-Hackers-AI-Voice-Assistant/VoiceAssistant/wakeword/scripts/replicate_audios.py --copy_number 100 --wakewords_dir A-Hackers-AI-Voice-Assistant/VoiceAssistant/wakeword/scripts/data/wakewords/ --copy_destination A-Hackers-AI-Voice-Assistant/VoiceAssistant/wakeword/scripts/data/1/ "
      ],
      "metadata": {
        "id": "IFjZkSe6krUR"
      },
      "execution_count": null,
      "outputs": []
    },
    {
      "cell_type": "code",
      "source": [
        "!python A-Hackers-AI-Voice-Assistant/VoiceAssistant/wakeword/scripts/split_audio_into_chunks.py --seconds 2 --audio_file_name   --save_path A-Hackers-AI-Voice-Assistant/VoiceAssistant/wakeword/scripts/data/0/ "
      ],
      "metadata": {
        "id": "Wq-51iIxq3mb"
      },
      "execution_count": null,
      "outputs": []
    },
    {
      "cell_type": "code",
      "source": [
        "!python A-Hackers-AI-Voice-Assistant/VoiceAssistant/wakeword/scripts/create_wakeword_jsons.py"
      ],
      "metadata": {
        "id": "FbBDXUovrbqz"
      },
      "execution_count": null,
      "outputs": []
    }
  ]
}
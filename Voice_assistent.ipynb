{
  "nbformat": 4,
  "nbformat_minor": 0,
  "metadata": {
    "colab": {
      "name": "Voice assistent",
      "provenance": [],
      "authorship_tag": "ABX9TyOxDGq/CIgM04HGBsIs0PzC",
      "include_colab_link": true
    },
    "kernelspec": {
      "name": "python3",
      "display_name": "Python 3"
    },
    "language_info": {
      "name": "python"
    }
  },
  "cells": [
    {
      "cell_type": "markdown",
      "metadata": {
        "id": "view-in-github",
        "colab_type": "text"
      },
      "source": [
        "<a href=\"https://colab.research.google.com/github/Muesligaming/A-Hackers-AI-Voice-Assistant/blob/master/Voice_assistent.ipynb\" target=\"_parent\"><img src=\"https://colab.research.google.com/assets/colab-badge.svg\" alt=\"Open In Colab\"/></a>"
      ]
    },
    {
      "cell_type": "code",
      "source": [
        "!apt-get install git\n",
        "!apt-get install portaudio19-dev\n",
        "!git clone https://github.com/Muesligaming/A-Hackers-AI-Voice-Assistant.git\n",
        "!pip install -r A-Hackers-AI-Voice-Assistant/req.txt"
      ],
      "metadata": {
        "colab": {
          "base_uri": "https://localhost:8080/"
        },
        "id": "Am43TrS6lyOm",
        "outputId": "cfd4fcd5-5502-4b39-e60a-6da12da6eb2d"
      },
      "execution_count": 4,
      "outputs": [
        {
          "output_type": "stream",
          "name": "stdout",
          "text": [
            "Reading package lists... Done\n",
            "Building dependency tree       \n",
            "Reading state information... Done\n",
            "git is already the newest version (1:2.17.1-1ubuntu0.9).\n",
            "0 upgraded, 0 newly installed, 0 to remove and 37 not upgraded.\n",
            "Reading package lists... Done\n",
            "Building dependency tree       \n",
            "Reading state information... Done\n",
            "portaudio19-dev is already the newest version (19.6.0-1).\n",
            "0 upgraded, 0 newly installed, 0 to remove and 37 not upgraded.\n",
            "fatal: destination path 'A-Hackers-AI-Voice-Assistant' already exists and is not an empty directory.\n",
            "Requirement already satisfied: astunparse==1.6.3 in /usr/local/lib/python3.7/dist-packages (from -r A-Hackers-AI-Voice-Assistant/req.txt (line 1)) (1.6.3)\n",
            "Requirement already satisfied: audioread==2.1.9 in /usr/local/lib/python3.7/dist-packages (from -r A-Hackers-AI-Voice-Assistant/req.txt (line 2)) (2.1.9)\n",
            "Requirement already satisfied: certifi==2020.12.5 in /usr/local/lib/python3.7/dist-packages (from -r A-Hackers-AI-Voice-Assistant/req.txt (line 3)) (2020.12.5)\n",
            "Requirement already satisfied: dataclasses==0.6 in /usr/local/lib/python3.7/dist-packages (from -r A-Hackers-AI-Voice-Assistant/req.txt (line 4)) (0.6)\n",
            "Requirement already satisfied: dill==0.3.4 in /usr/local/lib/python3.7/dist-packages (from -r A-Hackers-AI-Voice-Assistant/req.txt (line 5)) (0.3.4)\n",
            "Requirement already satisfied: filelock==3.0.12 in /usr/local/lib/python3.7/dist-packages (from -r A-Hackers-AI-Voice-Assistant/req.txt (line 6)) (3.0.12)\n",
            "Requirement already satisfied: fsspec==0.8.5 in /usr/local/lib/python3.7/dist-packages (from -r A-Hackers-AI-Voice-Assistant/req.txt (line 7)) (0.8.5)\n",
            "Requirement already satisfied: future==0.18.2 in /usr/local/lib/python3.7/dist-packages (from -r A-Hackers-AI-Voice-Assistant/req.txt (line 8)) (0.18.2)\n",
            "Requirement already satisfied: gast==0.3.3 in /usr/local/lib/python3.7/dist-packages (from -r A-Hackers-AI-Voice-Assistant/req.txt (line 9)) (0.3.3)\n",
            "Requirement already satisfied: joblib==1.0.0 in /usr/local/lib/python3.7/dist-packages (from -r A-Hackers-AI-Voice-Assistant/req.txt (line 10)) (1.0.0)\n",
            "Requirement already satisfied: Keras-Preprocessing==1.1.2 in /usr/local/lib/python3.7/dist-packages (from -r A-Hackers-AI-Voice-Assistant/req.txt (line 11)) (1.1.2)\n",
            "Requirement already satisfied: llvmlite==0.35.0 in /usr/local/lib/python3.7/dist-packages (from -r A-Hackers-AI-Voice-Assistant/req.txt (line 12)) (0.35.0)\n",
            "Requirement already satisfied: matplotlib==3.3.3 in /usr/local/lib/python3.7/dist-packages (from -r A-Hackers-AI-Voice-Assistant/req.txt (line 13)) (3.3.3)\n",
            "Requirement already satisfied: nltk==3.5 in /usr/local/lib/python3.7/dist-packages (from -r A-Hackers-AI-Voice-Assistant/req.txt (line 14)) (3.5)\n",
            "Requirement already satisfied: numba==0.52.0 in /usr/local/lib/python3.7/dist-packages (from -r A-Hackers-AI-Voice-Assistant/req.txt (line 15)) (0.52.0)\n",
            "Requirement already satisfied: numpy==1.18.5 in /usr/local/lib/python3.7/dist-packages (from -r A-Hackers-AI-Voice-Assistant/req.txt (line 16)) (1.18.5)\n",
            "Requirement already satisfied: oauthlib==3.1.0 in /usr/local/lib/python3.7/dist-packages (from -r A-Hackers-AI-Voice-Assistant/req.txt (line 17)) (3.1.0)\n",
            "Requirement already satisfied: pandas==1.1.5 in /usr/local/lib/python3.7/dist-packages (from -r A-Hackers-AI-Voice-Assistant/req.txt (line 18)) (1.1.5)\n",
            "Requirement already satisfied: Pillow==8.0.1 in /usr/local/lib/python3.7/dist-packages (from -r A-Hackers-AI-Voice-Assistant/req.txt (line 19)) (8.0.1)\n",
            "Requirement already satisfied: protobuf==3.14.0 in /usr/local/lib/python3.7/dist-packages (from -r A-Hackers-AI-Voice-Assistant/req.txt (line 20)) (3.14.0)\n",
            "Requirement already satisfied: pydub==0.23.1 in /usr/local/lib/python3.7/dist-packages (from -r A-Hackers-AI-Voice-Assistant/req.txt (line 21)) (0.23.1)\n",
            "Requirement already satisfied: pytorch-lightning==1.1.1 in /usr/local/lib/python3.7/dist-packages (from -r A-Hackers-AI-Voice-Assistant/req.txt (line 22)) (1.1.1)\n",
            "Requirement already satisfied: regex==2020.11.13 in /usr/local/lib/python3.7/dist-packages (from -r A-Hackers-AI-Voice-Assistant/req.txt (line 23)) (2020.11.13)\n",
            "Requirement already satisfied: resampy==0.2.2 in /usr/local/lib/python3.7/dist-packages (from -r A-Hackers-AI-Voice-Assistant/req.txt (line 24)) (0.2.2)\n",
            "Requirement already satisfied: sacremoses==0.0.43 in /usr/local/lib/python3.7/dist-packages (from -r A-Hackers-AI-Voice-Assistant/req.txt (line 25)) (0.0.43)\n",
            "Requirement already satisfied: scikit-learn==0.22.2.post1 in /usr/local/lib/python3.7/dist-packages (from -r A-Hackers-AI-Voice-Assistant/req.txt (line 26)) (0.22.2.post1)\n",
            "Requirement already satisfied: scipy==1.4.1 in /usr/local/lib/python3.7/dist-packages (from -r A-Hackers-AI-Voice-Assistant/req.txt (line 27)) (1.4.1)\n",
            "Requirement already satisfied: seaborn==0.11.1 in /usr/local/lib/python3.7/dist-packages (from -r A-Hackers-AI-Voice-Assistant/req.txt (line 28)) (0.11.1)\n",
            "Requirement already satisfied: sentencepiece==0.1.94 in /usr/local/lib/python3.7/dist-packages (from -r A-Hackers-AI-Voice-Assistant/req.txt (line 29)) (0.1.94)\n",
            "Requirement already satisfied: sonopy==0.1.2 in /usr/local/lib/python3.7/dist-packages (from -r A-Hackers-AI-Voice-Assistant/req.txt (line 30)) (0.1.2)\n",
            "Requirement already satisfied: SoundFile==0.10.3.post1 in /usr/local/lib/python3.7/dist-packages (from -r A-Hackers-AI-Voice-Assistant/req.txt (line 31)) (0.10.3.post1)\n",
            "Requirement already satisfied: tabulate==0.8.7 in /usr/local/lib/python3.7/dist-packages (from -r A-Hackers-AI-Voice-Assistant/req.txt (line 32)) (0.8.7)\n",
            "Requirement already satisfied: tensorboard==2.4.0 in /usr/local/lib/python3.7/dist-packages (from -r A-Hackers-AI-Voice-Assistant/req.txt (line 33)) (2.4.0)\n",
            "Requirement already satisfied: tensorboard-plugin-wit==1.7.0 in /usr/local/lib/python3.7/dist-packages (from -r A-Hackers-AI-Voice-Assistant/req.txt (line 34)) (1.7.0)\n",
            "Requirement already satisfied: tensorflow==2.3.0 in /usr/local/lib/python3.7/dist-packages (from -r A-Hackers-AI-Voice-Assistant/req.txt (line 35)) (2.3.0)\n",
            "Requirement already satisfied: tensorflow-estimator==2.3.0 in /usr/local/lib/python3.7/dist-packages (from -r A-Hackers-AI-Voice-Assistant/req.txt (line 36)) (2.3.0)\n",
            "Requirement already satisfied: tokenizers==0.9.4 in /usr/local/lib/python3.7/dist-packages (from -r A-Hackers-AI-Voice-Assistant/req.txt (line 37)) (0.9.4)\n",
            "Requirement already satisfied: torch==1.7.1 in /usr/local/lib/python3.7/dist-packages (from -r A-Hackers-AI-Voice-Assistant/req.txt (line 38)) (1.7.1)\n",
            "Requirement already satisfied: torchaudio in /usr/local/lib/python3.7/dist-packages (from -r A-Hackers-AI-Voice-Assistant/req.txt (line 39)) (0.7.2)\n",
            "Requirement already satisfied: torchtext==0.6.0 in /usr/local/lib/python3.7/dist-packages (from -r A-Hackers-AI-Voice-Assistant/req.txt (line 40)) (0.6.0)\n",
            "Requirement already satisfied: torchvision==0.8.2 in /usr/local/lib/python3.7/dist-packages (from -r A-Hackers-AI-Voice-Assistant/req.txt (line 41)) (0.8.2)\n",
            "Requirement already satisfied: tqdm==4.54.1 in /usr/local/lib/python3.7/dist-packages (from -r A-Hackers-AI-Voice-Assistant/req.txt (line 42)) (4.54.1)\n",
            "Requirement already satisfied: transformers==4.1.1 in /usr/local/lib/python3.7/dist-packages (from -r A-Hackers-AI-Voice-Assistant/req.txt (line 43)) (4.1.1)\n",
            "Requirement already satisfied: typing-extensions==3.7.4.3 in /usr/local/lib/python3.7/dist-packages (from -r A-Hackers-AI-Voice-Assistant/req.txt (line 44)) (3.7.4.3)\n",
            "Requirement already satisfied: jupyter==1.0.0 in /usr/local/lib/python3.7/dist-packages (from -r A-Hackers-AI-Voice-Assistant/req.txt (line 45)) (1.0.0)\n",
            "Requirement already satisfied: pandarallel==1.4.8 in /usr/local/lib/python3.7/dist-packages (from -r A-Hackers-AI-Voice-Assistant/req.txt (line 46)) (1.4.8)\n",
            "Requirement already satisfied: librosa==0.7.2 in /usr/local/lib/python3.7/dist-packages (from -r A-Hackers-AI-Voice-Assistant/req.txt (line 48)) (0.7.2)\n",
            "Requirement already satisfied: pyaudio==0.2.11 in /usr/local/lib/python3.7/dist-packages (from -r A-Hackers-AI-Voice-Assistant/req.txt (line 51)) (0.2.11)\n",
            "Requirement already satisfied: wheel<1.0,>=0.23.0 in /usr/local/lib/python3.7/dist-packages (from astunparse==1.6.3->-r A-Hackers-AI-Voice-Assistant/req.txt (line 1)) (0.37.0)\n",
            "Requirement already satisfied: six<2.0,>=1.6.1 in /usr/local/lib/python3.7/dist-packages (from astunparse==1.6.3->-r A-Hackers-AI-Voice-Assistant/req.txt (line 1)) (1.15.0)\n",
            "Requirement already satisfied: pyparsing!=2.0.4,!=2.1.2,!=2.1.6,>=2.0.3 in /usr/local/lib/python3.7/dist-packages (from matplotlib==3.3.3->-r A-Hackers-AI-Voice-Assistant/req.txt (line 13)) (3.0.6)\n",
            "Requirement already satisfied: cycler>=0.10 in /usr/local/lib/python3.7/dist-packages (from matplotlib==3.3.3->-r A-Hackers-AI-Voice-Assistant/req.txt (line 13)) (0.11.0)\n",
            "Requirement already satisfied: python-dateutil>=2.1 in /usr/local/lib/python3.7/dist-packages (from matplotlib==3.3.3->-r A-Hackers-AI-Voice-Assistant/req.txt (line 13)) (2.8.2)\n",
            "Requirement already satisfied: kiwisolver>=1.0.1 in /usr/local/lib/python3.7/dist-packages (from matplotlib==3.3.3->-r A-Hackers-AI-Voice-Assistant/req.txt (line 13)) (1.3.2)\n",
            "Requirement already satisfied: click in /usr/local/lib/python3.7/dist-packages (from nltk==3.5->-r A-Hackers-AI-Voice-Assistant/req.txt (line 14)) (7.1.2)\n",
            "Requirement already satisfied: setuptools in /usr/local/lib/python3.7/dist-packages (from numba==0.52.0->-r A-Hackers-AI-Voice-Assistant/req.txt (line 15)) (57.4.0)\n",
            "Requirement already satisfied: pytz>=2017.2 in /usr/local/lib/python3.7/dist-packages (from pandas==1.1.5->-r A-Hackers-AI-Voice-Assistant/req.txt (line 18)) (2018.9)\n",
            "Requirement already satisfied: PyYAML>=5.1 in /usr/local/lib/python3.7/dist-packages (from pytorch-lightning==1.1.1->-r A-Hackers-AI-Voice-Assistant/req.txt (line 22)) (6.0)\n",
            "Requirement already satisfied: cffi>=1.0 in /usr/local/lib/python3.7/dist-packages (from SoundFile==0.10.3.post1->-r A-Hackers-AI-Voice-Assistant/req.txt (line 31)) (1.15.0)\n",
            "Requirement already satisfied: absl-py>=0.4 in /usr/local/lib/python3.7/dist-packages (from tensorboard==2.4.0->-r A-Hackers-AI-Voice-Assistant/req.txt (line 33)) (0.12.0)\n",
            "Requirement already satisfied: google-auth-oauthlib<0.5,>=0.4.1 in /usr/local/lib/python3.7/dist-packages (from tensorboard==2.4.0->-r A-Hackers-AI-Voice-Assistant/req.txt (line 33)) (0.4.6)\n",
            "Requirement already satisfied: grpcio>=1.24.3 in /usr/local/lib/python3.7/dist-packages (from tensorboard==2.4.0->-r A-Hackers-AI-Voice-Assistant/req.txt (line 33)) (1.42.0)\n",
            "Requirement already satisfied: werkzeug>=0.11.15 in /usr/local/lib/python3.7/dist-packages (from tensorboard==2.4.0->-r A-Hackers-AI-Voice-Assistant/req.txt (line 33)) (1.0.1)\n",
            "Requirement already satisfied: requests<3,>=2.21.0 in /usr/local/lib/python3.7/dist-packages (from tensorboard==2.4.0->-r A-Hackers-AI-Voice-Assistant/req.txt (line 33)) (2.23.0)\n",
            "Requirement already satisfied: google-auth<2,>=1.6.3 in /usr/local/lib/python3.7/dist-packages (from tensorboard==2.4.0->-r A-Hackers-AI-Voice-Assistant/req.txt (line 33)) (1.35.0)\n",
            "Requirement already satisfied: markdown>=2.6.8 in /usr/local/lib/python3.7/dist-packages (from tensorboard==2.4.0->-r A-Hackers-AI-Voice-Assistant/req.txt (line 33)) (3.3.6)\n",
            "Requirement already satisfied: h5py<2.11.0,>=2.10.0 in /usr/local/lib/python3.7/dist-packages (from tensorflow==2.3.0->-r A-Hackers-AI-Voice-Assistant/req.txt (line 35)) (2.10.0)\n",
            "Requirement already satisfied: google-pasta>=0.1.8 in /usr/local/lib/python3.7/dist-packages (from tensorflow==2.3.0->-r A-Hackers-AI-Voice-Assistant/req.txt (line 35)) (0.2.0)\n",
            "Requirement already satisfied: wrapt>=1.11.1 in /usr/local/lib/python3.7/dist-packages (from tensorflow==2.3.0->-r A-Hackers-AI-Voice-Assistant/req.txt (line 35)) (1.13.3)\n",
            "Requirement already satisfied: opt-einsum>=2.3.2 in /usr/local/lib/python3.7/dist-packages (from tensorflow==2.3.0->-r A-Hackers-AI-Voice-Assistant/req.txt (line 35)) (3.3.0)\n",
            "Requirement already satisfied: termcolor>=1.1.0 in /usr/local/lib/python3.7/dist-packages (from tensorflow==2.3.0->-r A-Hackers-AI-Voice-Assistant/req.txt (line 35)) (1.1.0)\n",
            "Requirement already satisfied: packaging in /usr/local/lib/python3.7/dist-packages (from transformers==4.1.1->-r A-Hackers-AI-Voice-Assistant/req.txt (line 43)) (21.3)\n",
            "Requirement already satisfied: qtconsole in /usr/local/lib/python3.7/dist-packages (from jupyter==1.0.0->-r A-Hackers-AI-Voice-Assistant/req.txt (line 45)) (5.2.1)\n",
            "Requirement already satisfied: ipykernel in /usr/local/lib/python3.7/dist-packages (from jupyter==1.0.0->-r A-Hackers-AI-Voice-Assistant/req.txt (line 45)) (4.10.1)\n",
            "Requirement already satisfied: ipywidgets in /usr/local/lib/python3.7/dist-packages (from jupyter==1.0.0->-r A-Hackers-AI-Voice-Assistant/req.txt (line 45)) (7.6.5)\n",
            "Requirement already satisfied: jupyter-console in /usr/local/lib/python3.7/dist-packages (from jupyter==1.0.0->-r A-Hackers-AI-Voice-Assistant/req.txt (line 45)) (5.2.0)\n",
            "Requirement already satisfied: notebook in /usr/local/lib/python3.7/dist-packages (from jupyter==1.0.0->-r A-Hackers-AI-Voice-Assistant/req.txt (line 45)) (5.3.1)\n",
            "Requirement already satisfied: nbconvert in /usr/local/lib/python3.7/dist-packages (from jupyter==1.0.0->-r A-Hackers-AI-Voice-Assistant/req.txt (line 45)) (5.6.1)\n",
            "Requirement already satisfied: decorator>=3.0.0 in /usr/local/lib/python3.7/dist-packages (from librosa==0.7.2->-r A-Hackers-AI-Voice-Assistant/req.txt (line 48)) (4.4.2)\n",
            "Requirement already satisfied: pycparser in /usr/local/lib/python3.7/dist-packages (from cffi>=1.0->SoundFile==0.10.3.post1->-r A-Hackers-AI-Voice-Assistant/req.txt (line 31)) (2.21)\n",
            "Requirement already satisfied: pyasn1-modules>=0.2.1 in /usr/local/lib/python3.7/dist-packages (from google-auth<2,>=1.6.3->tensorboard==2.4.0->-r A-Hackers-AI-Voice-Assistant/req.txt (line 33)) (0.2.8)\n",
            "Requirement already satisfied: cachetools<5.0,>=2.0.0 in /usr/local/lib/python3.7/dist-packages (from google-auth<2,>=1.6.3->tensorboard==2.4.0->-r A-Hackers-AI-Voice-Assistant/req.txt (line 33)) (4.2.4)\n",
            "Requirement already satisfied: rsa<5,>=3.1.4 in /usr/local/lib/python3.7/dist-packages (from google-auth<2,>=1.6.3->tensorboard==2.4.0->-r A-Hackers-AI-Voice-Assistant/req.txt (line 33)) (4.8)\n",
            "Requirement already satisfied: requests-oauthlib>=0.7.0 in /usr/local/lib/python3.7/dist-packages (from google-auth-oauthlib<0.5,>=0.4.1->tensorboard==2.4.0->-r A-Hackers-AI-Voice-Assistant/req.txt (line 33)) (1.3.0)\n",
            "Requirement already satisfied: importlib-metadata>=4.4 in /usr/local/lib/python3.7/dist-packages (from markdown>=2.6.8->tensorboard==2.4.0->-r A-Hackers-AI-Voice-Assistant/req.txt (line 33)) (4.8.2)\n",
            "Requirement already satisfied: zipp>=0.5 in /usr/local/lib/python3.7/dist-packages (from importlib-metadata>=4.4->markdown>=2.6.8->tensorboard==2.4.0->-r A-Hackers-AI-Voice-Assistant/req.txt (line 33)) (3.6.0)\n",
            "Requirement already satisfied: pyasn1<0.5.0,>=0.4.6 in /usr/local/lib/python3.7/dist-packages (from pyasn1-modules>=0.2.1->google-auth<2,>=1.6.3->tensorboard==2.4.0->-r A-Hackers-AI-Voice-Assistant/req.txt (line 33)) (0.4.8)\n",
            "Requirement already satisfied: urllib3!=1.25.0,!=1.25.1,<1.26,>=1.21.1 in /usr/local/lib/python3.7/dist-packages (from requests<3,>=2.21.0->tensorboard==2.4.0->-r A-Hackers-AI-Voice-Assistant/req.txt (line 33)) (1.24.3)\n",
            "Requirement already satisfied: chardet<4,>=3.0.2 in /usr/local/lib/python3.7/dist-packages (from requests<3,>=2.21.0->tensorboard==2.4.0->-r A-Hackers-AI-Voice-Assistant/req.txt (line 33)) (3.0.4)\n",
            "Requirement already satisfied: idna<3,>=2.5 in /usr/local/lib/python3.7/dist-packages (from requests<3,>=2.21.0->tensorboard==2.4.0->-r A-Hackers-AI-Voice-Assistant/req.txt (line 33)) (2.10)\n",
            "Requirement already satisfied: tornado>=4.0 in /usr/local/lib/python3.7/dist-packages (from ipykernel->jupyter==1.0.0->-r A-Hackers-AI-Voice-Assistant/req.txt (line 45)) (5.1.1)\n",
            "Requirement already satisfied: traitlets>=4.1.0 in /usr/local/lib/python3.7/dist-packages (from ipykernel->jupyter==1.0.0->-r A-Hackers-AI-Voice-Assistant/req.txt (line 45)) (5.1.1)\n",
            "Requirement already satisfied: jupyter-client in /usr/local/lib/python3.7/dist-packages (from ipykernel->jupyter==1.0.0->-r A-Hackers-AI-Voice-Assistant/req.txt (line 45)) (5.3.5)\n",
            "Requirement already satisfied: ipython>=4.0.0 in /usr/local/lib/python3.7/dist-packages (from ipykernel->jupyter==1.0.0->-r A-Hackers-AI-Voice-Assistant/req.txt (line 45)) (5.5.0)\n",
            "Requirement already satisfied: pickleshare in /usr/local/lib/python3.7/dist-packages (from ipython>=4.0.0->ipykernel->jupyter==1.0.0->-r A-Hackers-AI-Voice-Assistant/req.txt (line 45)) (0.7.5)\n",
            "Requirement already satisfied: simplegeneric>0.8 in /usr/local/lib/python3.7/dist-packages (from ipython>=4.0.0->ipykernel->jupyter==1.0.0->-r A-Hackers-AI-Voice-Assistant/req.txt (line 45)) (0.8.1)\n",
            "Requirement already satisfied: prompt-toolkit<2.0.0,>=1.0.4 in /usr/local/lib/python3.7/dist-packages (from ipython>=4.0.0->ipykernel->jupyter==1.0.0->-r A-Hackers-AI-Voice-Assistant/req.txt (line 45)) (1.0.18)\n",
            "Requirement already satisfied: pexpect in /usr/local/lib/python3.7/dist-packages (from ipython>=4.0.0->ipykernel->jupyter==1.0.0->-r A-Hackers-AI-Voice-Assistant/req.txt (line 45)) (4.8.0)\n",
            "Requirement already satisfied: pygments in /usr/local/lib/python3.7/dist-packages (from ipython>=4.0.0->ipykernel->jupyter==1.0.0->-r A-Hackers-AI-Voice-Assistant/req.txt (line 45)) (2.6.1)\n",
            "Requirement already satisfied: wcwidth in /usr/local/lib/python3.7/dist-packages (from prompt-toolkit<2.0.0,>=1.0.4->ipython>=4.0.0->ipykernel->jupyter==1.0.0->-r A-Hackers-AI-Voice-Assistant/req.txt (line 45)) (0.2.5)\n",
            "Requirement already satisfied: ipython-genutils~=0.2.0 in /usr/local/lib/python3.7/dist-packages (from ipywidgets->jupyter==1.0.0->-r A-Hackers-AI-Voice-Assistant/req.txt (line 45)) (0.2.0)\n",
            "Requirement already satisfied: jupyterlab-widgets>=1.0.0 in /usr/local/lib/python3.7/dist-packages (from ipywidgets->jupyter==1.0.0->-r A-Hackers-AI-Voice-Assistant/req.txt (line 45)) (1.0.2)\n",
            "Requirement already satisfied: nbformat>=4.2.0 in /usr/local/lib/python3.7/dist-packages (from ipywidgets->jupyter==1.0.0->-r A-Hackers-AI-Voice-Assistant/req.txt (line 45)) (5.1.3)\n",
            "Requirement already satisfied: widgetsnbextension~=3.5.0 in /usr/local/lib/python3.7/dist-packages (from ipywidgets->jupyter==1.0.0->-r A-Hackers-AI-Voice-Assistant/req.txt (line 45)) (3.5.2)\n",
            "Requirement already satisfied: jsonschema!=2.5.0,>=2.4 in /usr/local/lib/python3.7/dist-packages (from nbformat>=4.2.0->ipywidgets->jupyter==1.0.0->-r A-Hackers-AI-Voice-Assistant/req.txt (line 45)) (2.6.0)\n",
            "Requirement already satisfied: jupyter-core in /usr/local/lib/python3.7/dist-packages (from nbformat>=4.2.0->ipywidgets->jupyter==1.0.0->-r A-Hackers-AI-Voice-Assistant/req.txt (line 45)) (4.9.1)\n",
            "Requirement already satisfied: jinja2 in /usr/local/lib/python3.7/dist-packages (from notebook->jupyter==1.0.0->-r A-Hackers-AI-Voice-Assistant/req.txt (line 45)) (2.11.3)\n",
            "Requirement already satisfied: Send2Trash in /usr/local/lib/python3.7/dist-packages (from notebook->jupyter==1.0.0->-r A-Hackers-AI-Voice-Assistant/req.txt (line 45)) (1.8.0)\n",
            "Requirement already satisfied: terminado>=0.8.1 in /usr/local/lib/python3.7/dist-packages (from notebook->jupyter==1.0.0->-r A-Hackers-AI-Voice-Assistant/req.txt (line 45)) (0.12.1)\n",
            "Requirement already satisfied: pyzmq>=13 in /usr/local/lib/python3.7/dist-packages (from jupyter-client->ipykernel->jupyter==1.0.0->-r A-Hackers-AI-Voice-Assistant/req.txt (line 45)) (22.3.0)\n",
            "Requirement already satisfied: ptyprocess in /usr/local/lib/python3.7/dist-packages (from terminado>=0.8.1->notebook->jupyter==1.0.0->-r A-Hackers-AI-Voice-Assistant/req.txt (line 45)) (0.7.0)\n",
            "Requirement already satisfied: MarkupSafe>=0.23 in /usr/local/lib/python3.7/dist-packages (from jinja2->notebook->jupyter==1.0.0->-r A-Hackers-AI-Voice-Assistant/req.txt (line 45)) (2.0.1)\n",
            "Requirement already satisfied: testpath in /usr/local/lib/python3.7/dist-packages (from nbconvert->jupyter==1.0.0->-r A-Hackers-AI-Voice-Assistant/req.txt (line 45)) (0.5.0)\n",
            "Requirement already satisfied: entrypoints>=0.2.2 in /usr/local/lib/python3.7/dist-packages (from nbconvert->jupyter==1.0.0->-r A-Hackers-AI-Voice-Assistant/req.txt (line 45)) (0.3)\n",
            "Requirement already satisfied: pandocfilters>=1.4.1 in /usr/local/lib/python3.7/dist-packages (from nbconvert->jupyter==1.0.0->-r A-Hackers-AI-Voice-Assistant/req.txt (line 45)) (1.5.0)\n",
            "Requirement already satisfied: mistune<2,>=0.8.1 in /usr/local/lib/python3.7/dist-packages (from nbconvert->jupyter==1.0.0->-r A-Hackers-AI-Voice-Assistant/req.txt (line 45)) (0.8.4)\n",
            "Requirement already satisfied: defusedxml in /usr/local/lib/python3.7/dist-packages (from nbconvert->jupyter==1.0.0->-r A-Hackers-AI-Voice-Assistant/req.txt (line 45)) (0.7.1)\n",
            "Requirement already satisfied: bleach in /usr/local/lib/python3.7/dist-packages (from nbconvert->jupyter==1.0.0->-r A-Hackers-AI-Voice-Assistant/req.txt (line 45)) (4.1.0)\n",
            "Requirement already satisfied: webencodings in /usr/local/lib/python3.7/dist-packages (from bleach->nbconvert->jupyter==1.0.0->-r A-Hackers-AI-Voice-Assistant/req.txt (line 45)) (0.5.1)\n",
            "Requirement already satisfied: qtpy in /usr/local/lib/python3.7/dist-packages (from qtconsole->jupyter==1.0.0->-r A-Hackers-AI-Voice-Assistant/req.txt (line 45)) (1.11.2)\n"
          ]
        }
      ]
    },
    {
      "cell_type": "code",
      "execution_count": 5,
      "metadata": {
        "colab": {
          "base_uri": "https://localhost:8080/"
        },
        "id": "TR0sk7oWfSaJ",
        "outputId": "47d14b12-4c73-4783-b12f-e862f47c05f4"
      },
      "outputs": [
        {
          "output_type": "stream",
          "name": "stdout",
          "text": [
            "mkdir: cannot create directory ‘A-Hackers-AI-Voice-Assistant/VoiceAssistant/wakeword/scripts/data’: File exists\n",
            "mkdir: cannot create directory ‘A-Hackers-AI-Voice-Assistant/VoiceAssistant/wakeword/scripts/data/0’: File exists\n",
            "mkdir: cannot create directory ‘A-Hackers-AI-Voice-Assistant/VoiceAssistant/wakeword/scripts/data/1’: File exists\n",
            "mkdir: cannot create directory ‘A-Hackers-AI-Voice-Assistant/VoiceAssistant/wakeword/scripts/data/wakewords’: File exists\n"
          ]
        }
      ],
      "source": [
        "!mkdir A-Hackers-AI-Voice-Assistant/VoiceAssistant/wakeword/scripts/data\n",
        "!mkdir A-Hackers-AI-Voice-Assistant/VoiceAssistant/wakeword/scripts/data/0\n",
        "!mkdir A-Hackers-AI-Voice-Assistant/VoiceAssistant/wakeword/scripts/data/1 \n",
        "!mkdir A-Hackers-AI-Voice-Assistant/VoiceAssistant/wakeword/scripts/data/wakewords"
      ]
    },
    {
      "cell_type": "code",
      "source": [
        ""
      ],
      "metadata": {
        "id": "5i3ggLUktN0Y"
      },
      "execution_count": null,
      "outputs": []
    },
    {
      "cell_type": "code",
      "source": [
        "!python A-Hackers-AI-Voice-Assistant/VoiceAssistant/wakeword/scripts/collect_wakeword_audio.py --sample_rate 8000 --seconds 2 --interactive --interactive_save_path A-Hackers-AI-Voice-Assistant/VoiceAssistant/wakeword/scripts/data/wakewords\n"
      ],
      "metadata": {
        "colab": {
          "base_uri": "https://localhost:8080/"
        },
        "id": "lZLtCfMIfegk",
        "outputId": "280ba8ff-37be-43de-a277-1ded98dd3660"
      },
      "execution_count": 12,
      "outputs": [
        {
          "output_type": "stream",
          "name": "stdout",
          "text": [
            "ALSA lib confmisc.c:767:(parse_card) cannot find card '0'\n",
            "ALSA lib conf.c:4528:(_snd_config_evaluate) function snd_func_card_driver returned error: No such file or directory\n",
            "ALSA lib confmisc.c:392:(snd_func_concat) error evaluating strings\n",
            "ALSA lib conf.c:4528:(_snd_config_evaluate) function snd_func_concat returned error: No such file or directory\n",
            "ALSA lib confmisc.c:1246:(snd_func_refer) error evaluating name\n",
            "ALSA lib conf.c:4528:(_snd_config_evaluate) function snd_func_refer returned error: No such file or directory\n",
            "ALSA lib conf.c:5007:(snd_config_expand) Evaluate error: No such file or directory\n",
            "ALSA lib pcm.c:2495:(snd_pcm_open_noupdate) Unknown PCM sysdefault\n",
            "ALSA lib confmisc.c:767:(parse_card) cannot find card '0'\n",
            "ALSA lib conf.c:4528:(_snd_config_evaluate) function snd_func_card_driver returned error: No such file or directory\n",
            "ALSA lib confmisc.c:392:(snd_func_concat) error evaluating strings\n",
            "ALSA lib conf.c:4528:(_snd_config_evaluate) function snd_func_concat returned error: No such file or directory\n",
            "ALSA lib confmisc.c:1246:(snd_func_refer) error evaluating name\n",
            "ALSA lib conf.c:4528:(_snd_config_evaluate) function snd_func_refer returned error: No such file or directory\n",
            "ALSA lib conf.c:5007:(snd_config_expand) Evaluate error: No such file or directory\n",
            "ALSA lib pcm.c:2495:(snd_pcm_open_noupdate) Unknown PCM sysdefault\n",
            "ALSA lib pcm.c:2495:(snd_pcm_open_noupdate) Unknown PCM cards.pcm.front\n",
            "ALSA lib pcm.c:2495:(snd_pcm_open_noupdate) Unknown PCM cards.pcm.rear\n",
            "ALSA lib pcm.c:2495:(snd_pcm_open_noupdate) Unknown PCM cards.pcm.center_lfe\n",
            "ALSA lib pcm.c:2495:(snd_pcm_open_noupdate) Unknown PCM cards.pcm.side\n",
            "ALSA lib pcm.c:2495:(snd_pcm_open_noupdate) Unknown PCM cards.pcm.surround21\n",
            "ALSA lib pcm.c:2495:(snd_pcm_open_noupdate) Unknown PCM cards.pcm.surround21\n",
            "ALSA lib pcm.c:2495:(snd_pcm_open_noupdate) Unknown PCM cards.pcm.surround40\n",
            "ALSA lib pcm.c:2495:(snd_pcm_open_noupdate) Unknown PCM cards.pcm.surround41\n",
            "ALSA lib pcm.c:2495:(snd_pcm_open_noupdate) Unknown PCM cards.pcm.surround50\n",
            "ALSA lib pcm.c:2495:(snd_pcm_open_noupdate) Unknown PCM cards.pcm.surround51\n",
            "ALSA lib pcm.c:2495:(snd_pcm_open_noupdate) Unknown PCM cards.pcm.surround71\n",
            "ALSA lib pcm.c:2495:(snd_pcm_open_noupdate) Unknown PCM cards.pcm.iec958\n",
            "ALSA lib pcm.c:2495:(snd_pcm_open_noupdate) Unknown PCM cards.pcm.iec958\n",
            "ALSA lib pcm.c:2495:(snd_pcm_open_noupdate) Unknown PCM cards.pcm.iec958\n",
            "ALSA lib pcm.c:2495:(snd_pcm_open_noupdate) Unknown PCM cards.pcm.hdmi\n",
            "ALSA lib pcm.c:2495:(snd_pcm_open_noupdate) Unknown PCM cards.pcm.hdmi\n",
            "ALSA lib pcm.c:2495:(snd_pcm_open_noupdate) Unknown PCM cards.pcm.modem\n",
            "ALSA lib pcm.c:2495:(snd_pcm_open_noupdate) Unknown PCM cards.pcm.modem\n",
            "ALSA lib pcm.c:2495:(snd_pcm_open_noupdate) Unknown PCM cards.pcm.phoneline\n",
            "ALSA lib pcm.c:2495:(snd_pcm_open_noupdate) Unknown PCM cards.pcm.phoneline\n",
            "ALSA lib confmisc.c:767:(parse_card) cannot find card '0'\n",
            "ALSA lib conf.c:4528:(_snd_config_evaluate) function snd_func_card_driver returned error: No such file or directory\n",
            "ALSA lib confmisc.c:392:(snd_func_concat) error evaluating strings\n",
            "ALSA lib conf.c:4528:(_snd_config_evaluate) function snd_func_concat returned error: No such file or directory\n",
            "ALSA lib confmisc.c:1246:(snd_func_refer) error evaluating name\n",
            "ALSA lib conf.c:4528:(_snd_config_evaluate) function snd_func_refer returned error: No such file or directory\n",
            "ALSA lib conf.c:5007:(snd_config_expand) Evaluate error: No such file or directory\n",
            "ALSA lib pcm.c:2495:(snd_pcm_open_noupdate) Unknown PCM default\n",
            "ALSA lib confmisc.c:767:(parse_card) cannot find card '0'\n",
            "ALSA lib conf.c:4528:(_snd_config_evaluate) function snd_func_card_driver returned error: No such file or directory\n",
            "ALSA lib confmisc.c:392:(snd_func_concat) error evaluating strings\n",
            "ALSA lib conf.c:4528:(_snd_config_evaluate) function snd_func_concat returned error: No such file or directory\n",
            "ALSA lib confmisc.c:1246:(snd_func_refer) error evaluating name\n",
            "ALSA lib conf.c:4528:(_snd_config_evaluate) function snd_func_refer returned error: No such file or directory\n",
            "ALSA lib conf.c:5007:(snd_config_expand) Evaluate error: No such file or directory\n",
            "ALSA lib pcm.c:2495:(snd_pcm_open_noupdate) Unknown PCM default\n",
            "ALSA lib confmisc.c:767:(parse_card) cannot find card '0'\n",
            "ALSA lib conf.c:4528:(_snd_config_evaluate) function snd_func_card_driver returned error: No such file or directory\n",
            "ALSA lib confmisc.c:392:(snd_func_concat) error evaluating strings\n",
            "ALSA lib conf.c:4528:(_snd_config_evaluate) function snd_func_concat returned error: No such file or directory\n",
            "ALSA lib confmisc.c:1246:(snd_func_refer) error evaluating name\n",
            "ALSA lib conf.c:4528:(_snd_config_evaluate) function snd_func_refer returned error: No such file or directory\n",
            "ALSA lib conf.c:5007:(snd_config_expand) Evaluate error: No such file or directory\n",
            "ALSA lib pcm.c:2495:(snd_pcm_open_noupdate) Unknown PCM dmix\n",
            "[Errno -9996] Invalid output device (no default output device)\n"
          ]
        }
      ]
    },
    {
      "cell_type": "code",
      "source": [
        "!python A-Hackers-AI-Voice-Assistant/VoiceAssistant/wakeword/scripts/replicate_audios.py --copy_number 100 --wakewords_dir A-Hackers-AI-Voice-Assistant/VoiceAssistant/wakeword/scripts/data/wakewords/ --copy_destination A-Hackers-AI-Voice-Assistant/VoiceAssistant/wakeword/scripts/data/1/ "
      ],
      "metadata": {
        "colab": {
          "base_uri": "https://localhost:8080/"
        },
        "id": "IFjZkSe6krUR",
        "outputId": "80276192-165e-4ff0-95a6-df3f7f5a4e8d"
      },
      "execution_count": 11,
      "outputs": [
        {
          "output_type": "stream",
          "name": "stdout",
          "text": [
            "Traceback (most recent call last):\n",
            "  File \"A-Hackers-AI-Voice-Assistant/VoiceAssistant/wakeword/scripts/replicate_audios.py\", line 39, in <module>\n",
            "    main(args)\n",
            "  File \"A-Hackers-AI-Voice-Assistant/VoiceAssistant/wakeword/scripts/replicate_audios.py\", line 7, in main\n",
            "    dest_dir = os.mkdir(args.wakewords_dir+'subfolder')\n",
            "FileExistsError: [Errno 17] File exists: 'A-Hackers-AI-Voice-Assistant/VoiceAssistant/wakeword/scripts/data/wakewords/subfolder'\n"
          ]
        }
      ]
    },
    {
      "cell_type": "code",
      "source": [
        "!python A-Hackers-AI-Voice-Assistant/VoiceAssistant/wakeword/scripts/split_audio_into_chunks.py --seconds 2 --audio_file_name   --save_path A-Hackers-AI-Voice-Assistant/VoiceAssistant/wakeword/scripts/data/0/ "
      ],
      "metadata": {
        "colab": {
          "base_uri": "https://localhost:8080/"
        },
        "id": "Wq-51iIxq3mb",
        "outputId": "859c3524-998e-4c34-d907-1e0818ce3858"
      },
      "execution_count": 10,
      "outputs": [
        {
          "output_type": "stream",
          "name": "stdout",
          "text": [
            "usage: split_audio_into_chunks.py [-h] [--seconds SECONDS] --audio_file_name\n",
            "                                  AUDIO_FILE_NAME --save_path SAVE_PATH\n",
            "split_audio_into_chunks.py: error: argument --audio_file_name: expected one argument\n"
          ]
        }
      ]
    },
    {
      "cell_type": "code",
      "source": [
        "!python A-Hackers-AI-Voice-Assistant/VoiceAssistant/wakeword/scripts/create_wakeword_jsons.py"
      ],
      "metadata": {
        "colab": {
          "base_uri": "https://localhost:8080/"
        },
        "id": "FbBDXUovrbqz",
        "outputId": "c13955a0-0d42-4bc7-9a5f-8adf310298a5"
      },
      "execution_count": 9,
      "outputs": [
        {
          "output_type": "stream",
          "name": "stdout",
          "text": [
            "usage: create_wakeword_jsons.py [-h] --zero_label_dir ZERO_LABEL_DIR\n",
            "                                --one_label_dir ONE_LABEL_DIR --save_json_path\n",
            "                                SAVE_JSON_PATH [--percent PERCENT]\n",
            "create_wakeword_jsons.py: error: the following arguments are required: --zero_label_dir, --one_label_dir, --save_json_path\n"
          ]
        }
      ]
    }
  ]
}